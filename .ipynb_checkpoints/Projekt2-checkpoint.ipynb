{
 "cells": [
  {
   "cell_type": "markdown",
   "id": "02bd7675",
   "metadata": {},
   "source": [
    "Projekt dotyczy analizy danych zawartych w zbiorze dotyczącym słuchotek, inaczej nazywanych uchowcami.\n",
    "\n",
    "Zbiór danych uwzględnia wiek, długość, średnicę, wysokość, całkowitą masę, masę mięsa, masę wnętrzności, masę muszli\n",
    "i liczbę pierścieni."
   ]
  },
  {
   "cell_type": "markdown",
   "id": "0563e62f",
   "metadata": {},
   "source": [
    "Używam bibliotek:"
   ]
  },
  {
   "cell_type": "code",
   "execution_count": 3,
   "id": "70ab83ce",
   "metadata": {},
   "outputs": [],
   "source": [
    "from ucimlrepo import fetch_ucirepo"
   ]
  },
  {
   "cell_type": "markdown",
   "id": "4f6b8ac6",
   "metadata": {},
   "source": [
    "Pobieram dane:"
   ]
  },
  {
   "cell_type": "code",
   "execution_count": null,
   "id": "ade3e527",
   "metadata": {},
   "outputs": [],
   "source": [
    "abalone = fetch_ucirepo(id=1) \n",
    "  \n",
    "# data (as pandas dataframes) \n",
    "X = abalone.data.features \n",
    "y = abalone.data.targets \n",
    "  \n",
    "# metadata \n",
    "print(abalone.metadata) \n",
    "  \n",
    "# variable information \n",
    "print(abalone.variables)"
   ]
  }
 ],
 "metadata": {
  "kernelspec": {
   "display_name": "Python 3 (ipykernel)",
   "language": "python",
   "name": "python3"
  },
  "language_info": {
   "codemirror_mode": {
    "name": "ipython",
    "version": 3
   },
   "file_extension": ".py",
   "mimetype": "text/x-python",
   "name": "python",
   "nbconvert_exporter": "python",
   "pygments_lexer": "ipython3",
   "version": "3.11.5"
  }
 },
 "nbformat": 4,
 "nbformat_minor": 5
}
