{
 "cells": [
  {
   "cell_type": "markdown",
   "id": "dd4f44ae",
   "metadata": {},
   "source": [
    "Projekt dotyczy analizy danych zawartych w zbiorze dotyczącym osiągnięć uczniów szkół średnich z dwóch portugalskich szkół.\n",
    "\n",
    "Dane zawierają oceny uczniów, cechy demograficzne, społeczne i szkolne."
   ]
  },
  {
   "cell_type": "markdown",
   "id": "eb8d19d7",
   "metadata": {},
   "source": [
    "Używam bibliotek:"
   ]
  },
  {
   "cell_type": "code",
   "execution_count": 10,
   "id": "b0ec2878",
   "metadata": {},
   "outputs": [],
   "source": [
    "from ucimlrepo import fetch_ucirepo \n",
    "from sklearn.model_selection import train_test_split\n",
    "from sklearn import tree\n",
    "from sklearn.metrics import confusion_matrix, accuracy_score, classification_report\n",
    "from sklearn.tree import export_text"
   ]
  },
  {
   "cell_type": "markdown",
   "id": "31cb389e",
   "metadata": {},
   "source": [
    "Pobieram dane:"
   ]
  },
  {
   "cell_type": "code",
   "execution_count": 5,
   "id": "e42dc9ce",
   "metadata": {},
   "outputs": [],
   "source": [
    "student_performance = fetch_ucirepo(id=320)\n",
    "X = student_performance.data.features \n",
    "y = student_performance.data.targets "
   ]
  },
  {
   "cell_type": "markdown",
   "id": "58cff55f",
   "metadata": {},
   "source": [
    "Dzielę dane na zbiór testowy i treningowy:"
   ]
  },
  {
   "cell_type": "code",
   "execution_count": 11,
   "id": "5043c4f7",
   "metadata": {},
   "outputs": [],
   "source": [
    "X_train, X_test, y_train, y_test = train_test_split(X, y, test_size=0.3, random_state=49)"
   ]
  },
  {
   "cell_type": "code",
   "execution_count": null,
   "id": "a02fd46c",
   "metadata": {},
   "outputs": [],
   "source": []
  }
 ],
 "metadata": {
  "kernelspec": {
   "display_name": "Python 3 (ipykernel)",
   "language": "python",
   "name": "python3"
  },
  "language_info": {
   "codemirror_mode": {
    "name": "ipython",
    "version": 3
   },
   "file_extension": ".py",
   "mimetype": "text/x-python",
   "name": "python",
   "nbconvert_exporter": "python",
   "pygments_lexer": "ipython3",
   "version": "3.11.5"
  }
 },
 "nbformat": 4,
 "nbformat_minor": 5
}
